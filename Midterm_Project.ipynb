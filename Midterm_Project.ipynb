{
  "nbformat": 4,
  "nbformat_minor": 0,
  "metadata": {
    "colab": {
      "provenance": [],
      "authorship_tag": "ABX9TyMUNX/489JzPvXy+CKGOZLA",
      "include_colab_link": true
    },
    "kernelspec": {
      "name": "python3",
      "display_name": "Python 3"
    },
    "language_info": {
      "name": "python"
    }
  },
  "cells": [
    {
      "cell_type": "markdown",
      "metadata": {
        "id": "view-in-github",
        "colab_type": "text"
      },
      "source": [
        "<a href=\"https://colab.research.google.com/github/Mathias2204/Data_Science_MK/blob/main/Midterm_Project.ipynb\" target=\"_parent\"><img src=\"https://colab.research.google.com/assets/colab-badge.svg\" alt=\"Open In Colab\"/></a>"
      ]
    },
    {
      "cell_type": "markdown",
      "source": [
        "Task 2: Background questions"
      ],
      "metadata": {
        "id": "aMD4V4oW2S6w"
      }
    },
    {
      "cell_type": "code",
      "source": [],
      "metadata": {
        "id": "B8wN4MMR19RN"
      },
      "execution_count": null,
      "outputs": []
    }
  ]
}