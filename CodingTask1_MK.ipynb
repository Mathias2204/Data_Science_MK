{
  "nbformat": 4,
  "nbformat_minor": 0,
  "metadata": {
    "colab": {
      "provenance": [],
      "include_colab_link": true
    },
    "kernelspec": {
      "name": "python3",
      "display_name": "Python 3"
    },
    "language_info": {
      "name": "python"
    }
  },
  "cells": [
    {
      "cell_type": "markdown",
      "metadata": {
        "id": "view-in-github",
        "colab_type": "text"
      },
      "source": [
        "<a href=\"https://colab.research.google.com/github/Mathias2204/Data_Science_MK/blob/main/CodingTask1_MK.ipynb\" target=\"_parent\"><img src=\"https://colab.research.google.com/assets/colab-badge.svg\" alt=\"Open In Colab\"/></a>"
      ]
    },
    {
      "cell_type": "markdown",
      "source": [
        "Data Science Fundamentals for DCBP, S. Haug, University of Bern "
      ],
      "metadata": {
        "id": "_-1mhuoK6uqC"
      }
    },
    {
      "cell_type": "markdown",
      "source": [
        "# Coding Task 1\n",
        "\n",
        "- Deadline: Send your solution notebook per email to Sigve by 2022-03-22 17:00\n",
        "- Estimated effort: 2-5 hours (if you don't progress after 2 hours of trying, search for help, ChatGPT, Google, colleagues, course tutor)\n",
        "- Data on Ilias: CCD-Data with metadata file CCD-Metadata\n"
      ],
      "metadata": {
        "id": "gn4RkUC66-ou"
      }
    },
    {
      "cell_type": "markdown",
      "source": [
        "## Tasks (maximum 12.5 points)"
      ],
      "metadata": {
        "id": "KYKF2iS56v1z"
      }
    },
    {
      "cell_type": "markdown",
      "source": [
        "- **CT-1.1** Write a method (function) which removes the header information in the \n",
        "datafile and saves that information into a separate textfile. [0.5 points] \n",
        "- **CT-1.2** Write a function which reduces the data resolution by merging/averaging columns such that there is only one column per 1 nm. [2.0 points]  \n",
        "- **CT-1.3** Now generalize the above merging so that it works for any number nm er column. [2.0 points]\n",
        "- **CT-1.4** Implement the saving of the reduced dataset to a file. Do this (1) by writing an explicit loop (write line by line) and (2) by using pandas methods. Measure the running times of the two approaches. [2.0 points]\n",
        "- **CT-1.5** Write a function which takes two wavelengths as input and plots the difference of the data at these lengths over time. [2.0 points] \n",
        "- **CT-1.6** Let the x-axis be in seconds, label the axes with names and units, label the plot with color and legend, make a title for the plot. Save the plot to a file. [2.0 points]\n",
        "- **CT-1.7** Plot the full and some reduced datasets in the same figure. Is there any visual difference? [2.0 points]"
      ],
      "metadata": {
        "id": "rXqhhPMu9aPx"
      }
    },
    {
      "cell_type": "markdown",
      "source": [
        "**Declaration:** The excercises were solved with the help of ChatGPT"
      ],
      "metadata": {
        "id": "33Fuf4iKDMXq"
      }
    },
    {
      "cell_type": "markdown",
      "source": [
        "CT-1.1:"
      ],
      "metadata": {
        "id": "gLu_mzlEZaOt"
      }
    },
    {
      "cell_type": "code",
      "source": [
        "import pandas as pd\n",
        "import numpy as np\n",
        "\n",
        "from google.colab import drive\n",
        "drive.mount('/content/drive')\n"
      ],
      "metadata": {
        "id": "OfvMackX-SFc",
        "outputId": "967c4f36-3a0d-454c-9602-fd918f2ed18a",
        "colab": {
          "base_uri": "https://localhost:8080/"
        }
      },
      "execution_count": 2,
      "outputs": [
        {
          "output_type": "stream",
          "name": "stdout",
          "text": [
            "Mounted at /content/drive\n"
          ]
        }
      ]
    },
    {
      "cell_type": "code",
      "source": [
        "input_file = '/content/drive/MyDrive/CCD-Data.txt' # To be adapted\n",
        "output_file = '/content/drive/MyDrive/header_info.txt' # To be adapted\n",
        "header_lines = []\n",
        "with open(input_file, 'r') as f_in:\n",
        "    for i in range(13):\n",
        "        header_lines.append(f_in.readline())\n",
        "with open(output_file, 'w') as f_out:\n",
        "    f_out.writelines(header_lines)\n",
        "\n",
        "\n",
        "df = pd.read_csv(input_file, delimiter='\\t', skiprows=range(14))\n",
        "df.to_csv('/content/drive/MyDrive/csv_file.csv', index=False) # To be adapted"
      ],
      "metadata": {
        "id": "DciPo5dVIfKI"
      },
      "execution_count": 3,
      "outputs": []
    },
    {
      "cell_type": "markdown",
      "source": [
        "CT-1.2"
      ],
      "metadata": {
        "id": "JQuIqYbbZreO"
      }
    },
    {
      "cell_type": "code",
      "source": [
        "df = pd.read_csv('/content/drive/MyDrive/csv_file.csv', delimiter=',') # To be adapted\n",
        "\n",
        "int_df = df.rename(columns=lambda x: x.split('.')[0])\n",
        "int_df = int_df.drop(int_df.columns[:2], axis=1)\n",
        "red_df =  int_df.groupby(level=0, axis=1,).mean()\n",
        "red_df.insert(0, 'timestamp', df['Unnamed: 1'])\n",
        "red_df.head()"
      ],
      "metadata": {
        "colab": {
          "base_uri": "https://localhost:8080/",
          "height": 300
        },
        "id": "tlXVlBTG97cd",
        "outputId": "862e5c32-89cd-42e7-baf3-d4c00d2a709c"
      },
      "execution_count": 6,
      "outputs": [
        {
          "output_type": "execute_result",
          "data": {
            "text/plain": [
              "       timestamp       316       317       318       319       320       321  \\\n",
              "0  1540456324789  0.329672 -0.166957 -0.064746  0.133130  0.123705 -0.249831   \n",
              "1  1540456324878 -0.044412 -0.411839 -0.133472  2.032979 -0.387814 -0.031617   \n",
              "2  1540456324962  0.338219 -0.094507 -0.024912  0.061890 -0.226986  0.107871   \n",
              "3  1540456325046 -0.049682  0.027980 -0.008338 -0.088350  0.070348 -0.013674   \n",
              "4  1540456325129  0.335086 -0.162378 -0.102281  0.045717 -0.088278  0.042099   \n",
              "\n",
              "        322       323       324  ...       771       772       773       774  \\\n",
              "0  0.271327 -0.093151 -0.123458  ... -0.038555 -0.038021 -0.039290 -0.038654   \n",
              "1  0.322955  1.744725 -0.051639  ... -0.038100 -0.038118 -0.038622 -0.038308   \n",
              "2  0.121011 -0.208504 -0.418836  ... -0.038063 -0.038303 -0.039200 -0.038397   \n",
              "3  0.307321  0.159532 -0.047932  ... -0.037775 -0.037678 -0.038711 -0.038133   \n",
              "4  0.304675 -0.261077 -0.009424  ... -0.038433 -0.038135 -0.038991 -0.038178   \n",
              "\n",
              "        775       776       777       778       779       780  \n",
              "0 -0.036496 -0.038835 -0.038145 -0.038333 -0.037679 -0.035545  \n",
              "1 -0.036896 -0.039010 -0.038400 -0.037930 -0.037812 -0.038165  \n",
              "2 -0.036932 -0.038245 -0.037664 -0.037514 -0.037057 -0.036903  \n",
              "3 -0.036972 -0.038177 -0.037273 -0.036996 -0.036614 -0.036822  \n",
              "4 -0.037010 -0.038540 -0.038076 -0.037606 -0.038132 -0.035900  \n",
              "\n",
              "[5 rows x 466 columns]"
            ],
            "text/html": [
              "\n",
              "  <div id=\"df-58508e05-68ed-438a-9ca9-01a98a11234c\">\n",
              "    <div class=\"colab-df-container\">\n",
              "      <div>\n",
              "<style scoped>\n",
              "    .dataframe tbody tr th:only-of-type {\n",
              "        vertical-align: middle;\n",
              "    }\n",
              "\n",
              "    .dataframe tbody tr th {\n",
              "        vertical-align: top;\n",
              "    }\n",
              "\n",
              "    .dataframe thead th {\n",
              "        text-align: right;\n",
              "    }\n",
              "</style>\n",
              "<table border=\"1\" class=\"dataframe\">\n",
              "  <thead>\n",
              "    <tr style=\"text-align: right;\">\n",
              "      <th></th>\n",
              "      <th>timestamp</th>\n",
              "      <th>316</th>\n",
              "      <th>317</th>\n",
              "      <th>318</th>\n",
              "      <th>319</th>\n",
              "      <th>320</th>\n",
              "      <th>321</th>\n",
              "      <th>322</th>\n",
              "      <th>323</th>\n",
              "      <th>324</th>\n",
              "      <th>...</th>\n",
              "      <th>771</th>\n",
              "      <th>772</th>\n",
              "      <th>773</th>\n",
              "      <th>774</th>\n",
              "      <th>775</th>\n",
              "      <th>776</th>\n",
              "      <th>777</th>\n",
              "      <th>778</th>\n",
              "      <th>779</th>\n",
              "      <th>780</th>\n",
              "    </tr>\n",
              "  </thead>\n",
              "  <tbody>\n",
              "    <tr>\n",
              "      <th>0</th>\n",
              "      <td>1540456324789</td>\n",
              "      <td>0.329672</td>\n",
              "      <td>-0.166957</td>\n",
              "      <td>-0.064746</td>\n",
              "      <td>0.133130</td>\n",
              "      <td>0.123705</td>\n",
              "      <td>-0.249831</td>\n",
              "      <td>0.271327</td>\n",
              "      <td>-0.093151</td>\n",
              "      <td>-0.123458</td>\n",
              "      <td>...</td>\n",
              "      <td>-0.038555</td>\n",
              "      <td>-0.038021</td>\n",
              "      <td>-0.039290</td>\n",
              "      <td>-0.038654</td>\n",
              "      <td>-0.036496</td>\n",
              "      <td>-0.038835</td>\n",
              "      <td>-0.038145</td>\n",
              "      <td>-0.038333</td>\n",
              "      <td>-0.037679</td>\n",
              "      <td>-0.035545</td>\n",
              "    </tr>\n",
              "    <tr>\n",
              "      <th>1</th>\n",
              "      <td>1540456324878</td>\n",
              "      <td>-0.044412</td>\n",
              "      <td>-0.411839</td>\n",
              "      <td>-0.133472</td>\n",
              "      <td>2.032979</td>\n",
              "      <td>-0.387814</td>\n",
              "      <td>-0.031617</td>\n",
              "      <td>0.322955</td>\n",
              "      <td>1.744725</td>\n",
              "      <td>-0.051639</td>\n",
              "      <td>...</td>\n",
              "      <td>-0.038100</td>\n",
              "      <td>-0.038118</td>\n",
              "      <td>-0.038622</td>\n",
              "      <td>-0.038308</td>\n",
              "      <td>-0.036896</td>\n",
              "      <td>-0.039010</td>\n",
              "      <td>-0.038400</td>\n",
              "      <td>-0.037930</td>\n",
              "      <td>-0.037812</td>\n",
              "      <td>-0.038165</td>\n",
              "    </tr>\n",
              "    <tr>\n",
              "      <th>2</th>\n",
              "      <td>1540456324962</td>\n",
              "      <td>0.338219</td>\n",
              "      <td>-0.094507</td>\n",
              "      <td>-0.024912</td>\n",
              "      <td>0.061890</td>\n",
              "      <td>-0.226986</td>\n",
              "      <td>0.107871</td>\n",
              "      <td>0.121011</td>\n",
              "      <td>-0.208504</td>\n",
              "      <td>-0.418836</td>\n",
              "      <td>...</td>\n",
              "      <td>-0.038063</td>\n",
              "      <td>-0.038303</td>\n",
              "      <td>-0.039200</td>\n",
              "      <td>-0.038397</td>\n",
              "      <td>-0.036932</td>\n",
              "      <td>-0.038245</td>\n",
              "      <td>-0.037664</td>\n",
              "      <td>-0.037514</td>\n",
              "      <td>-0.037057</td>\n",
              "      <td>-0.036903</td>\n",
              "    </tr>\n",
              "    <tr>\n",
              "      <th>3</th>\n",
              "      <td>1540456325046</td>\n",
              "      <td>-0.049682</td>\n",
              "      <td>0.027980</td>\n",
              "      <td>-0.008338</td>\n",
              "      <td>-0.088350</td>\n",
              "      <td>0.070348</td>\n",
              "      <td>-0.013674</td>\n",
              "      <td>0.307321</td>\n",
              "      <td>0.159532</td>\n",
              "      <td>-0.047932</td>\n",
              "      <td>...</td>\n",
              "      <td>-0.037775</td>\n",
              "      <td>-0.037678</td>\n",
              "      <td>-0.038711</td>\n",
              "      <td>-0.038133</td>\n",
              "      <td>-0.036972</td>\n",
              "      <td>-0.038177</td>\n",
              "      <td>-0.037273</td>\n",
              "      <td>-0.036996</td>\n",
              "      <td>-0.036614</td>\n",
              "      <td>-0.036822</td>\n",
              "    </tr>\n",
              "    <tr>\n",
              "      <th>4</th>\n",
              "      <td>1540456325129</td>\n",
              "      <td>0.335086</td>\n",
              "      <td>-0.162378</td>\n",
              "      <td>-0.102281</td>\n",
              "      <td>0.045717</td>\n",
              "      <td>-0.088278</td>\n",
              "      <td>0.042099</td>\n",
              "      <td>0.304675</td>\n",
              "      <td>-0.261077</td>\n",
              "      <td>-0.009424</td>\n",
              "      <td>...</td>\n",
              "      <td>-0.038433</td>\n",
              "      <td>-0.038135</td>\n",
              "      <td>-0.038991</td>\n",
              "      <td>-0.038178</td>\n",
              "      <td>-0.037010</td>\n",
              "      <td>-0.038540</td>\n",
              "      <td>-0.038076</td>\n",
              "      <td>-0.037606</td>\n",
              "      <td>-0.038132</td>\n",
              "      <td>-0.035900</td>\n",
              "    </tr>\n",
              "  </tbody>\n",
              "</table>\n",
              "<p>5 rows × 466 columns</p>\n",
              "</div>\n",
              "      <button class=\"colab-df-convert\" onclick=\"convertToInteractive('df-58508e05-68ed-438a-9ca9-01a98a11234c')\"\n",
              "              title=\"Convert this dataframe to an interactive table.\"\n",
              "              style=\"display:none;\">\n",
              "        \n",
              "  <svg xmlns=\"http://www.w3.org/2000/svg\" height=\"24px\"viewBox=\"0 0 24 24\"\n",
              "       width=\"24px\">\n",
              "    <path d=\"M0 0h24v24H0V0z\" fill=\"none\"/>\n",
              "    <path d=\"M18.56 5.44l.94 2.06.94-2.06 2.06-.94-2.06-.94-.94-2.06-.94 2.06-2.06.94zm-11 1L8.5 8.5l.94-2.06 2.06-.94-2.06-.94L8.5 2.5l-.94 2.06-2.06.94zm10 10l.94 2.06.94-2.06 2.06-.94-2.06-.94-.94-2.06-.94 2.06-2.06.94z\"/><path d=\"M17.41 7.96l-1.37-1.37c-.4-.4-.92-.59-1.43-.59-.52 0-1.04.2-1.43.59L10.3 9.45l-7.72 7.72c-.78.78-.78 2.05 0 2.83L4 21.41c.39.39.9.59 1.41.59.51 0 1.02-.2 1.41-.59l7.78-7.78 2.81-2.81c.8-.78.8-2.07 0-2.86zM5.41 20L4 18.59l7.72-7.72 1.47 1.35L5.41 20z\"/>\n",
              "  </svg>\n",
              "      </button>\n",
              "      \n",
              "  <style>\n",
              "    .colab-df-container {\n",
              "      display:flex;\n",
              "      flex-wrap:wrap;\n",
              "      gap: 12px;\n",
              "    }\n",
              "\n",
              "    .colab-df-convert {\n",
              "      background-color: #E8F0FE;\n",
              "      border: none;\n",
              "      border-radius: 50%;\n",
              "      cursor: pointer;\n",
              "      display: none;\n",
              "      fill: #1967D2;\n",
              "      height: 32px;\n",
              "      padding: 0 0 0 0;\n",
              "      width: 32px;\n",
              "    }\n",
              "\n",
              "    .colab-df-convert:hover {\n",
              "      background-color: #E2EBFA;\n",
              "      box-shadow: 0px 1px 2px rgba(60, 64, 67, 0.3), 0px 1px 3px 1px rgba(60, 64, 67, 0.15);\n",
              "      fill: #174EA6;\n",
              "    }\n",
              "\n",
              "    [theme=dark] .colab-df-convert {\n",
              "      background-color: #3B4455;\n",
              "      fill: #D2E3FC;\n",
              "    }\n",
              "\n",
              "    [theme=dark] .colab-df-convert:hover {\n",
              "      background-color: #434B5C;\n",
              "      box-shadow: 0px 1px 3px 1px rgba(0, 0, 0, 0.15);\n",
              "      filter: drop-shadow(0px 1px 2px rgba(0, 0, 0, 0.3));\n",
              "      fill: #FFFFFF;\n",
              "    }\n",
              "  </style>\n",
              "\n",
              "      <script>\n",
              "        const buttonEl =\n",
              "          document.querySelector('#df-58508e05-68ed-438a-9ca9-01a98a11234c button.colab-df-convert');\n",
              "        buttonEl.style.display =\n",
              "          google.colab.kernel.accessAllowed ? 'block' : 'none';\n",
              "\n",
              "        async function convertToInteractive(key) {\n",
              "          const element = document.querySelector('#df-58508e05-68ed-438a-9ca9-01a98a11234c');\n",
              "          const dataTable =\n",
              "            await google.colab.kernel.invokeFunction('convertToInteractive',\n",
              "                                                     [key], {});\n",
              "          if (!dataTable) return;\n",
              "\n",
              "          const docLinkHtml = 'Like what you see? Visit the ' +\n",
              "            '<a target=\"_blank\" href=https://colab.research.google.com/notebooks/data_table.ipynb>data table notebook</a>'\n",
              "            + ' to learn more about interactive tables.';\n",
              "          element.innerHTML = '';\n",
              "          dataTable['output_type'] = 'display_data';\n",
              "          await google.colab.output.renderOutput(dataTable, element);\n",
              "          const docLink = document.createElement('div');\n",
              "          docLink.innerHTML = docLinkHtml;\n",
              "          element.appendChild(docLink);\n",
              "        }\n",
              "      </script>\n",
              "    </div>\n",
              "  </div>\n",
              "  "
            ]
          },
          "metadata": {},
          "execution_count": 6
        }
      ]
    },
    {
      "cell_type": "markdown",
      "source": [
        "CT-1.3"
      ],
      "metadata": {
        "id": "SuEvfsSxtEL9"
      }
    },
    {
      "cell_type": "markdown",
      "source": [
        "CT-1.4"
      ],
      "metadata": {
        "id": "abwRXmFqBucd"
      }
    },
    {
      "cell_type": "code",
      "source": [
        "# Saving of the reduced dataframe using a pandas method \n",
        "\n",
        "import time\n",
        "\n",
        "def my_function():\n",
        "    red_df.to_csv('/content/drive/MyDrive/reduced_data_pandas.csv', index=False)\n",
        "\n",
        "start_time = time.time()\n",
        "my_function()\n",
        "end_time = time.time()\n",
        "\n",
        "print(\"Time taken: \", end_time - start_time, \"seconds\")\n"
      ],
      "metadata": {
        "id": "_XoMaTmf3edE",
        "colab": {
          "base_uri": "https://localhost:8080/"
        },
        "outputId": "8dcdb046-7ab9-4167-fc7e-b48656469de6"
      },
      "execution_count": 23,
      "outputs": [
        {
          "output_type": "stream",
          "name": "stdout",
          "text": [
            "Time taken:  0.27645134925842285 seconds\n"
          ]
        }
      ]
    },
    {
      "cell_type": "code",
      "source": [
        "# Saving of the reduced dataframe using an explicit loop\n",
        "\n",
        "import csv\n",
        "import time\n",
        "\n",
        "def my_function():\n",
        "  with open('/content/drive/MyDrive/reduced_data_loop.csv', 'w', newline='') as f: # To be adapted\n",
        "    writer = csv.writer(f)\n",
        "    writer.writerow(red_df.columns)\n",
        "    for row in red_df.values:\n",
        "        writer.writerow(row)\n",
        "    pass\n",
        "\n",
        "start_time = time.time()\n",
        "my_function()\n",
        "end_time = time.time()\n",
        "\n",
        "print(\"Time taken: \", end_time - start_time, \"seconds\")\n",
        "\n"
      ],
      "metadata": {
        "id": "ZnmQZJvzEbbe",
        "colab": {
          "base_uri": "https://localhost:8080/"
        },
        "outputId": "5940cce9-8a8c-47fb-8c09-c8d466d597ad"
      },
      "execution_count": 24,
      "outputs": [
        {
          "output_type": "stream",
          "name": "stdout",
          "text": [
            "Time taken:  0.21765828132629395 seconds\n"
          ]
        }
      ]
    },
    {
      "cell_type": "markdown",
      "source": [
        "CT-1.5"
      ],
      "metadata": {
        "id": "wPtd98T9GRmT"
      }
    },
    {
      "cell_type": "code",
      "source": [
        "# with reduced data from CT-1.3\n",
        "import matplotlib.pyplot as plt\n",
        "\n",
        "def wavelength_difference(df, nm1, nm2):\n",
        "   difference = df[nm1] - df[nm2]\n",
        "   plt.plot(df['timestamp'], difference)\n",
        "   plt.show()\n",
        "\n",
        "\n",
        "wavelength_difference(red_df, '319', '745')"
      ],
      "metadata": {
        "id": "bgMivNzvGQcv",
        "colab": {
          "base_uri": "https://localhost:8080/",
          "height": 265
        },
        "outputId": "8fff93e9-587f-4f93-d468-acd3c9af72ae"
      },
      "execution_count": 15,
      "outputs": [
        {
          "output_type": "display_data",
          "data": {
            "text/plain": [
              "<Figure size 432x288 with 1 Axes>"
            ],
            "image/png": "[encoded data removed]"
          },
          "metadata": {
            "needs_background": "light"
          }
        }
      ]
    },
    {
      "cell_type": "markdown",
      "source": [
        "CT-1.6"
      ],
      "metadata": {
        "id": "GfVzRe0yoUAu"
      }
    },
    {
      "cell_type": "code",
      "source": [
        "# with reduced data from CT-1.3\n",
        "def plot_difference(df, raw_df, nm1, nm2):\n",
        "  difference = df[nm1] - df[nm2]\n",
        "  plt.plot(df['timestamp'], difference, color='red')\n",
        "  plt.title(\"Difference between {wavelength 1} and {wavelength 2}\")\n",
        "  plt.xlabel(\"Time\")\n",
        "  plt.ylabel(\"Difference in nm\")\n",
        "  plt.savefig(\"difference_plot.png\", dpi=400)\n",
        "  plt.legend(['Difference over time'], loc='upper center')\n",
        "  plt.show()\n",
        "\n",
        "\n",
        "plot_difference(red_df, df, '319', '745')"
      ],
      "metadata": {
        "colab": {
          "base_uri": "https://localhost:8080/",
          "height": 295
        },
        "id": "_e8zDWiKoWCf",
        "outputId": "024463a7-da2c-4c45-b553-4cc58427df20"
      },
      "execution_count": 22,
      "outputs": [
        {
          "output_type": "display_data",
          "data": {
            "text/plain": [
              "<Figure size 432x288 with 1 Axes>"
            ],
            "image/png": "[encoded data removed]"
          },
          "metadata": {
            "needs_background": "light"
          }
        }
      ]
    },
    {
      "cell_type": "markdown",
      "source": [
        "CT-1.7"
      ],
      "metadata": {
        "id": "zCkSVRLT56-z"
      }
    },
    {
      "cell_type": "code",
      "source": [
        "def differences(red_df, inint_nm1, int_nm2, nm3, nm4):\n",
        "  diff_red = red_df[int_nm1] - red_df[int_nm2]\n",
        "  diff_full = df[nm3] -df [nm4]\n",
        "\n",
        "\n",
        "def plot_merge():\n",
        " \n",
        "\n",
        "\n",
        "differences(red_df, df, 319, 745, 317.0203, 318.9169) \n",
        "plot_merge(diff_red, diff_full)"
      ],
      "metadata": {
        "id": "BP9gxRpw56Gu"
      },
      "execution_count": null,
      "outputs": []
    }
  ]
}